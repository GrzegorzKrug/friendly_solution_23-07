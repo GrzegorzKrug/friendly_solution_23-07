{
 "cells": [
  {
   "cell_type": "code",
   "execution_count": 1,
   "id": "0c4d934e",
   "metadata": {},
   "outputs": [],
   "source": [
    "import pandas as pd\n",
    "import matplotlib.pyplot as plt\n",
    "import numpy as np\n",
    "import math\n",
    "import os"
   ]
  },
  {
   "cell_type": "code",
   "execution_count": 2,
   "id": "39d7a108",
   "metadata": {},
   "outputs": [],
   "source": [
    "# from tensorflow import keras"
   ]
  },
  {
   "cell_type": "code",
   "execution_count": 3,
   "id": "996c7dfe",
   "metadata": {},
   "outputs": [],
   "source": [
    "import tensorflow as tf"
   ]
  },
  {
   "cell_type": "code",
   "execution_count": 4,
   "id": "d56ea72c",
   "metadata": {},
   "outputs": [],
   "source": [
    "# tf.compat.v1.enable_eager_execution()"
   ]
  },
  {
   "cell_type": "code",
   "execution_count": 5,
   "id": "f88f4985",
   "metadata": {},
   "outputs": [
    {
     "data": {
      "text/html": [
       "<div>\n",
       "<style scoped>\n",
       "    .dataframe tbody tr th:only-of-type {\n",
       "        vertical-align: middle;\n",
       "    }\n",
       "\n",
       "    .dataframe tbody tr th {\n",
       "        vertical-align: top;\n",
       "    }\n",
       "\n",
       "    .dataframe thead th {\n",
       "        text-align: right;\n",
       "    }\n",
       "</style>\n",
       "<table border=\"1\" class=\"dataframe\">\n",
       "  <thead>\n",
       "    <tr style=\"text-align: right;\">\n",
       "      <th></th>\n",
       "      <th>index</th>\n",
       "      <th>date</th>\n",
       "      <th>time</th>\n",
       "      <th>open</th>\n",
       "      <th>high</th>\n",
       "      <th>low</th>\n",
       "      <th>last</th>\n",
       "      <th>volume</th>\n",
       "      <th># of trades</th>\n",
       "      <th>ohlc avg</th>\n",
       "      <th>...</th>\n",
       "      <th>middle band</th>\n",
       "      <th>bottom band</th>\n",
       "      <th>obv length</th>\n",
       "      <th>dayfraction</th>\n",
       "      <th>seconds</th>\n",
       "      <th>timestamp_str</th>\n",
       "      <th>timestamp_us</th>\n",
       "      <th>dayofweek</th>\n",
       "      <th>daysinmonth</th>\n",
       "      <th>monthfraction</th>\n",
       "    </tr>\n",
       "  </thead>\n",
       "  <tbody>\n",
       "    <tr>\n",
       "      <th>0</th>\n",
       "      <td>8895</td>\n",
       "      <td>2023-6-15</td>\n",
       "      <td>00:01:10.517003</td>\n",
       "      <td>4418.75</td>\n",
       "      <td>4418.75</td>\n",
       "      <td>4417.00</td>\n",
       "      <td>4417.25</td>\n",
       "      <td>600</td>\n",
       "      <td>482</td>\n",
       "      <td>4417.94</td>\n",
       "      <td>...</td>\n",
       "      <td>4418.50</td>\n",
       "      <td>4417.93</td>\n",
       "      <td>600</td>\n",
       "      <td>0.000816</td>\n",
       "      <td>70.517003</td>\n",
       "      <td>2023-06-15 00:01:10.517003</td>\n",
       "      <td>1686787270517003000</td>\n",
       "      <td>3</td>\n",
       "      <td>30</td>\n",
       "      <td>0.5</td>\n",
       "    </tr>\n",
       "    <tr>\n",
       "      <th>1</th>\n",
       "      <td>8896</td>\n",
       "      <td>2023-6-15</td>\n",
       "      <td>00:05:33.982002</td>\n",
       "      <td>4417.25</td>\n",
       "      <td>4417.75</td>\n",
       "      <td>4416.50</td>\n",
       "      <td>4416.50</td>\n",
       "      <td>600</td>\n",
       "      <td>466</td>\n",
       "      <td>4417.00</td>\n",
       "      <td>...</td>\n",
       "      <td>4418.43</td>\n",
       "      <td>4417.73</td>\n",
       "      <td>600</td>\n",
       "      <td>0.003866</td>\n",
       "      <td>333.982002</td>\n",
       "      <td>2023-06-15 00:05:33.982002</td>\n",
       "      <td>1686787533982002000</td>\n",
       "      <td>3</td>\n",
       "      <td>30</td>\n",
       "      <td>0.5</td>\n",
       "    </tr>\n",
       "    <tr>\n",
       "      <th>2</th>\n",
       "      <td>8897</td>\n",
       "      <td>2023-6-15</td>\n",
       "      <td>00:12:19.360000</td>\n",
       "      <td>4416.50</td>\n",
       "      <td>4418.25</td>\n",
       "      <td>4416.25</td>\n",
       "      <td>4418.25</td>\n",
       "      <td>600</td>\n",
       "      <td>458</td>\n",
       "      <td>4417.31</td>\n",
       "      <td>...</td>\n",
       "      <td>4418.39</td>\n",
       "      <td>4417.65</td>\n",
       "      <td>600</td>\n",
       "      <td>0.008557</td>\n",
       "      <td>739.360000</td>\n",
       "      <td>2023-06-15 00:12:19.360000</td>\n",
       "      <td>1686787939360000000</td>\n",
       "      <td>3</td>\n",
       "      <td>30</td>\n",
       "      <td>0.5</td>\n",
       "    </tr>\n",
       "    <tr>\n",
       "      <th>3</th>\n",
       "      <td>8898</td>\n",
       "      <td>2023-6-15</td>\n",
       "      <td>00:18:57.236000</td>\n",
       "      <td>4418.25</td>\n",
       "      <td>4418.75</td>\n",
       "      <td>4417.50</td>\n",
       "      <td>4418.50</td>\n",
       "      <td>600</td>\n",
       "      <td>492</td>\n",
       "      <td>4418.25</td>\n",
       "      <td>...</td>\n",
       "      <td>4418.37</td>\n",
       "      <td>4417.63</td>\n",
       "      <td>1200</td>\n",
       "      <td>0.013162</td>\n",
       "      <td>1137.236000</td>\n",
       "      <td>2023-06-15 00:18:57.236000</td>\n",
       "      <td>1686788337236000000</td>\n",
       "      <td>3</td>\n",
       "      <td>30</td>\n",
       "      <td>0.5</td>\n",
       "    </tr>\n",
       "    <tr>\n",
       "      <th>4</th>\n",
       "      <td>8899</td>\n",
       "      <td>2023-6-15</td>\n",
       "      <td>00:26:32.795000</td>\n",
       "      <td>4418.50</td>\n",
       "      <td>4420.00</td>\n",
       "      <td>4418.50</td>\n",
       "      <td>4420.00</td>\n",
       "      <td>600</td>\n",
       "      <td>457</td>\n",
       "      <td>4419.25</td>\n",
       "      <td>...</td>\n",
       "      <td>4418.42</td>\n",
       "      <td>4417.63</td>\n",
       "      <td>1200</td>\n",
       "      <td>0.018435</td>\n",
       "      <td>1592.795000</td>\n",
       "      <td>2023-06-15 00:26:32.795000</td>\n",
       "      <td>1686788792795000000</td>\n",
       "      <td>3</td>\n",
       "      <td>30</td>\n",
       "      <td>0.5</td>\n",
       "    </tr>\n",
       "  </tbody>\n",
       "</table>\n",
       "<p>5 rows × 27 columns</p>\n",
       "</div>"
      ],
      "text/plain": [
       "   index       date              time     open     high      low     last  \\\n",
       "0   8895  2023-6-15   00:01:10.517003  4418.75  4418.75  4417.00  4417.25   \n",
       "1   8896  2023-6-15   00:05:33.982002  4417.25  4417.75  4416.50  4416.50   \n",
       "2   8897  2023-6-15   00:12:19.360000  4416.50  4418.25  4416.25  4418.25   \n",
       "3   8898  2023-6-15   00:18:57.236000  4418.25  4418.75  4417.50  4418.50   \n",
       "4   8899  2023-6-15   00:26:32.795000  4418.50  4420.00  4418.50  4420.00   \n",
       "\n",
       "   volume  # of trades  ohlc avg  ...  middle band  bottom band  obv length  \\\n",
       "0     600          482   4417.94  ...      4418.50      4417.93         600   \n",
       "1     600          466   4417.00  ...      4418.43      4417.73         600   \n",
       "2     600          458   4417.31  ...      4418.39      4417.65         600   \n",
       "3     600          492   4418.25  ...      4418.37      4417.63        1200   \n",
       "4     600          457   4419.25  ...      4418.42      4417.63        1200   \n",
       "\n",
       "   dayfraction      seconds               timestamp_str         timestamp_us  \\\n",
       "0     0.000816    70.517003  2023-06-15 00:01:10.517003  1686787270517003000   \n",
       "1     0.003866   333.982002  2023-06-15 00:05:33.982002  1686787533982002000   \n",
       "2     0.008557   739.360000  2023-06-15 00:12:19.360000  1686787939360000000   \n",
       "3     0.013162  1137.236000  2023-06-15 00:18:57.236000  1686788337236000000   \n",
       "4     0.018435  1592.795000  2023-06-15 00:26:32.795000  1686788792795000000   \n",
       "\n",
       "   dayofweek  daysinmonth  monthfraction  \n",
       "0          3           30            0.5  \n",
       "1          3           30            0.5  \n",
       "2          3           30            0.5  \n",
       "3          3           30            0.5  \n",
       "4          3           30            0.5  \n",
       "\n",
       "[5 rows x 27 columns]"
      ]
     },
     "execution_count": 5,
     "metadata": {},
     "output_type": "execute_result"
    }
   ],
   "source": [
    "path = os.path.join(\"..\", \"dane\", \"clean\", \"test.csv\")\n",
    "\n",
    "df = pd.read_csv(path)\n",
    "df.head()"
   ]
  },
  {
   "cell_type": "code",
   "execution_count": 6,
   "id": "f43f3290",
   "metadata": {},
   "outputs": [],
   "source": [
    "np.set_printoptions(suppress=False)\n",
    "pd.set_option('float_format', '{:f}'.format)"
   ]
  },
  {
   "cell_type": "code",
   "execution_count": 7,
   "id": "30b2e5af",
   "metadata": {},
   "outputs": [],
   "source": [
    "tm = df['timestamp_us']\n",
    "tm = (tm/1e9).values\n",
    "tm = tm-tm[0]"
   ]
  },
  {
   "cell_type": "code",
   "execution_count": 8,
   "id": "4a05be62",
   "metadata": {},
   "outputs": [],
   "source": [
    "X = df['last'].values"
   ]
  },
  {
   "cell_type": "code",
   "execution_count": 9,
   "id": "b3770f00",
   "metadata": {},
   "outputs": [
    {
     "name": "stdout",
     "output_type": "stream",
     "text": [
      "(22796,) (22796,)\n"
     ]
    }
   ],
   "source": [
    "print(tm.shape, X.shape)"
   ]
  },
  {
   "cell_type": "code",
   "execution_count": 10,
   "id": "f6d377e7",
   "metadata": {},
   "outputs": [
    {
     "name": "stdout",
     "output_type": "stream",
     "text": [
      "(1192041,)\n"
     ]
    }
   ],
   "source": [
    "tm_uniform = np.arange(tm[0], tm[-1], 1)\n",
    "X_uniform = np.interp(tm_uniform, tm, X)\n",
    "print(X_uniform.shape)\n",
    "X_uniform = X_uniform.reshape(-1, 1)"
   ]
  },
  {
   "cell_type": "code",
   "execution_count": 11,
   "id": "7e51dbee",
   "metadata": {},
   "outputs": [],
   "source": [
    "# plt.plot(tm[:100], X[:100])\n",
    "# plt.plot(tm_uniform[:5000], X_uniform[:5000])"
   ]
  },
  {
   "cell_type": "code",
   "execution_count": 12,
   "id": "62864a8b",
   "metadata": {},
   "outputs": [
    {
     "data": {
      "text/plain": [
       "array([[0.3889902 ],\n",
       "       [0.38896736],\n",
       "       [0.38894453],\n",
       "       ...,\n",
       "       [0.47312491],\n",
       "       [0.4731578 ],\n",
       "       [0.47319069]])"
      ]
     },
     "execution_count": 12,
     "metadata": {},
     "output_type": "execute_result"
    }
   ],
   "source": [
    "from sklearn.preprocessing import MinMaxScaler\n",
    "\n",
    "scaler = MinMaxScaler(feature_range=(0, 1)) #Also try QuantileTransformer\n",
    "X_uniform = scaler.fit_transform(X_uniform)\n",
    "X_uniform"
   ]
  },
  {
   "cell_type": "code",
   "execution_count": 13,
   "id": "5f5176a8",
   "metadata": {},
   "outputs": [],
   "source": [
    "train_size = int(len(X_uniform) * 0.66)\n",
    "test_size = len(X_uniform) - train_size\n",
    "train, test = X_uniform[:train_size,:], X_uniform[train_size:,:]"
   ]
  },
  {
   "cell_type": "code",
   "execution_count": 14,
   "id": "fbcf775c",
   "metadata": {},
   "outputs": [
    {
     "data": {
      "text/plain": [
       "[<matplotlib.lines.Line2D at 0x1670d8ea910>]"
      ]
     },
     "execution_count": 14,
     "metadata": {},
     "output_type": "execute_result"
    },
    {
     "data": {
      "image/png": "[encoded data removed]",
      "text/plain": [
       "<Figure size 640x480 with 1 Axes>"
      ]
     },
     "metadata": {},
     "output_type": "display_data"
    }
   ],
   "source": [
    "plt.plot(train)"
   ]
  },
  {
   "cell_type": "code",
   "execution_count": 15,
   "id": "e28d47a1",
   "metadata": {},
   "outputs": [
    {
     "data": {
      "text/plain": [
       "[<matplotlib.lines.Line2D at 0x1670d94e760>]"
      ]
     },
     "execution_count": 15,
     "metadata": {},
     "output_type": "execute_result"
    },
    {
     "data": {
      "image/png": "[encoded data removed]",
      "text/plain": [
       "<Figure size 640x480 with 1 Axes>"
      ]
     },
     "metadata": {},
     "output_type": "display_data"
    }
   ],
   "source": [
    "plt.plot(test)"
   ]
  },
  {
   "cell_type": "code",
   "execution_count": 16,
   "id": "2553e4d3",
   "metadata": {},
   "outputs": [
    {
     "data": {
      "text/plain": [
       "((786626, 120), (786626,), (405173, 120), (405173,))"
      ]
     },
     "execution_count": 16,
     "metadata": {},
     "output_type": "execute_result"
    }
   ],
   "source": [
    "def to_sequences(dataset, seq_size=1):\n",
    "    x = []\n",
    "    y = []\n",
    "\n",
    "    for i in range(len(dataset)-seq_size-1):\n",
    "        #print(i)\n",
    "        window = dataset[i:(i+seq_size), 0]\n",
    "        x.append(window)\n",
    "        y.append(dataset[i+seq_size, 0])\n",
    "        \n",
    "    return np.array(x),np.array(y)\n",
    "    \n",
    "\n",
    "seq_size = 120  # Number of time steps to look back \n",
    "#Larger sequences (look further back) may improve forecasting.\n",
    "\n",
    "trainX, trainY = to_sequences(train, seq_size)\n",
    "testX, testY = to_sequences(test, seq_size)\n",
    "\n",
    "trainX.shape, trainY.shape, testX.shape, testY.shape"
   ]
  },
  {
   "cell_type": "code",
   "execution_count": 17,
   "id": "0faf0e99",
   "metadata": {},
   "outputs": [
    {
     "data": {
      "text/plain": [
       "((786626, 1, 120), (405173, 1, 120))"
      ]
     },
     "execution_count": 17,
     "metadata": {},
     "output_type": "execute_result"
    }
   ],
   "source": [
    "trainX = trainX.reshape((trainX.shape[0],  1, seq_size))\n",
    "testX = testX.reshape((testX.shape[0],  1, seq_size))\n",
    "trainX.shape, testX.shape"
   ]
  },
  {
   "cell_type": "code",
   "execution_count": 18,
   "id": "391226b5",
   "metadata": {},
   "outputs": [],
   "source": [
    "# from keras.models import Sequential\n",
    "# from keras.layers import Dense\n",
    "# from keras.layers import LSTM, Flatten\n",
    "# from keras.layers import ConvLSTM2D\n",
    "from tensorflow.keras.models import Sequential\n",
    "from tensorflow.keras.layers import Dense\n",
    "from tensorflow.keras.layers import LSTM, Flatten\n",
    "from tensorflow.keras.layers import ConvLSTM2D"
   ]
  },
  {
   "cell_type": "code",
   "execution_count": 19,
   "id": "0a79d3f3",
   "metadata": {},
   "outputs": [
    {
     "name": "stdout",
     "output_type": "stream",
     "text": [
      "Gpus: [PhysicalDevice(name='/physical_device:GPU:0', device_type='GPU')]\n"
     ]
    }
   ],
   "source": [
    "gpus = tf.config.experimental.list_physical_devices('GPU')\n",
    "print(f\"Gpus: {gpus}\")\n",
    "# tf.config.experimen"
   ]
  },
  {
   "cell_type": "code",
   "execution_count": 20,
   "id": "626d33a4",
   "metadata": {},
   "outputs": [],
   "source": [
    "# config = tf.compat.v1.ConfigProto(device_count = {'GPU': 1})\n",
    "# config.gpu_options.per_process_gpu_memory_fraction = 0.8\n",
    "# tf.compat.v1.InteractiveSession(config=config)"
   ]
  },
  {
   "cell_type": "code",
   "execution_count": 21,
   "id": "e2d26f60",
   "metadata": {},
   "outputs": [],
   "source": [
    "# # tf.config.experimental.set_virtual_device_configuration(\n",
    "# #     gpus[0],\n",
    "# #     [tf.config.experimental.VirtualDeviceConfiguration(memory_limit=5000)])\n",
    "\n",
    "# config = tf.compat.v1.ConfigProto(device_count = {'GPU': 1})\n",
    "# sess = tf.compat.v1.Session(config=config)\n",
    "# # dir(sess)"
   ]
  },
  {
   "cell_type": "code",
   "execution_count": 22,
   "id": "6e6d14b2",
   "metadata": {},
   "outputs": [
    {
     "name": "stdout",
     "output_type": "stream",
     "text": [
      "WARNING:tensorflow:Layer lstm will not use cuDNN kernels since it doesn't meet the criteria. It will use a generic GPU kernel as fallback when running on GPU.\n",
      "Train on 786626 samples, validate on 405173 samples\n",
      "786626/786626 [==============================] - ETA: 0s - loss: 0.0447"
     ]
    },
    {
     "name": "stderr",
     "output_type": "stream",
     "text": [
      "C:\\Users\\Greg\\anaconda3\\envs\\tf2\\lib\\site-packages\\keras\\engine\\training_v1.py:2045: UserWarning: `Model.state_updates` will be removed in a future version. This property should not be used in TensorFlow 2.0, as `updates` are applied automatically.\n",
      "  updates = self.state_updates\n"
     ]
    },
    {
     "name": "stdout",
     "output_type": "stream",
     "text": [
      "\b\b\b\b\b\b\b\b\b\b\b\b\b\b\b\b\b\b\b\b\b\b\b\b\b\b\b\b\b\b\b\b\b\b\b\b\b\b\b\b\b\b\b\b\b\b\b\b\b\b\b\b\b\b\b\b\b\b\b\b\b\b\b\b\b\b\b\b\b\b\b\r",
      "786626/786626 [==============================] - 192s 244us/sample - loss: 0.0447 - val_loss: 0.1270\n"
     ]
    }
   ],
   "source": [
    "with tf.compat.v1.Session():\n",
    "    model = Sequential()\n",
    "    model.add(LSTM(250, return_sequences=True, input_shape=(1,seq_size)))\n",
    "    # model.add(LSTM(50))\n",
    "    model.add(Dense(32))\n",
    "    model.add(Dense(1))\n",
    "    model.compile(optimizer='adam', loss='mean_squared_error')\n",
    "\n",
    "    model.fit(trainX, trainY, validation_data=(testX, testY),\n",
    "          verbose=True, epochs=1)"
   ]
  },
  {
   "cell_type": "code",
   "execution_count": 23,
   "id": "7177ae1e",
   "metadata": {},
   "outputs": [],
   "source": [
    "# model = Sequential()\n",
    "# model.add(LSTM(250, return_sequences=True, input_shape=(1,seq_size)))\n",
    "# # model.add(LSTM(50))\n",
    "# model.add(Dense(32))\n",
    "# model.add(Dense(1))\n",
    "# model.compile(optimizer='adam', loss='mean_squared_error')"
   ]
  },
  {
   "cell_type": "code",
   "execution_count": 24,
   "id": "f8b383eb",
   "metadata": {},
   "outputs": [
    {
     "name": "stderr",
     "output_type": "stream",
     "text": [
      "\n",
      "KeyboardInterrupt\n",
      "\n"
     ]
    }
   ],
   "source": [
    "model = Sequential()\n",
    "model.add(LSTM(250, return_sequences=True, input_shape=(1,seq_size)))\n",
    "# model.add(LSTM(50))\n",
    "model.add(Dense(32))\n",
    "model.add(Dense(1))\n",
    "model.compile(optimizer='adam', loss='mean_squared_error')\n",
    "\n",
    "model.fit(trainX, trainY, validation_data=(testX, testY),\n",
    "      verbose=True, epochs=1)"
   ]
  },
  {
   "cell_type": "code",
   "execution_count": null,
   "id": "baec39c4",
   "metadata": {},
   "outputs": [],
   "source": [
    "trainPredict = model.predict(trainX)\n",
    "testPredict = model.predict(testX)\n",
    "trainPredict.shape, testPredict.shape"
   ]
  },
  {
   "cell_type": "code",
   "execution_count": null,
   "id": "f8140077",
   "metadata": {},
   "outputs": [],
   "source": []
  },
  {
   "cell_type": "code",
   "execution_count": null,
   "id": "99a62a88",
   "metadata": {},
   "outputs": [],
   "source": [
    "trainPredict = scaler.inverse_transform(trainPredict.reshape(-1,1))\n",
    "trainY = scaler.inverse_transform(trainY.reshape(-1,1))\n",
    "testPredict = scaler.inverse_transform(testPredict.reshape(-1,1))\n",
    "testY = scaler.inverse_transform(testY.reshape(-1,1))"
   ]
  },
  {
   "cell_type": "code",
   "execution_count": null,
   "id": "2b7e64a8",
   "metadata": {},
   "outputs": [],
   "source": [
    "trainPredict.shape, trainY.shape, testPredict.shape, testY.shape"
   ]
  },
  {
   "cell_type": "code",
   "execution_count": null,
   "id": "e92418d9",
   "metadata": {},
   "outputs": [],
   "source": [
    "from sklearn.metrics import mean_squared_error"
   ]
  },
  {
   "cell_type": "code",
   "execution_count": null,
   "id": "c81ad804",
   "metadata": {},
   "outputs": [],
   "source": [
    "# calculate root mean squared error\n",
    "trainScore = math.sqrt(mean_squared_error(trainY, trainPredict))\n",
    "print('Train Score: %.2f RMSE' % (trainScore))\n",
    "\n",
    "testScore = math.sqrt(mean_squared_error(testY, testPredict))\n",
    "print('Test Score: %.2f RMSE' % (testScore))"
   ]
  },
  {
   "cell_type": "code",
   "execution_count": null,
   "id": "b84c1f72",
   "metadata": {},
   "outputs": [],
   "source": [
    "plt.plot(testPredict)"
   ]
  },
  {
   "cell_type": "code",
   "execution_count": null,
   "id": "583d8d32",
   "metadata": {},
   "outputs": [],
   "source": [
    "plt.plot(testY)"
   ]
  }
 ],
 "metadata": {
  "kernelspec": {
   "display_name": "Python 3 (ipykernel)",
   "language": "python",
   "name": "python3"
  },
  "language_info": {
   "codemirror_mode": {
    "name": "ipython",
    "version": 3
   },
   "file_extension": ".py",
   "mimetype": "text/x-python",
   "name": "python",
   "nbconvert_exporter": "python",
   "pygments_lexer": "ipython3",
   "version": "3.9.16"
  }
 },
 "nbformat": 4,
 "nbformat_minor": 5
}
